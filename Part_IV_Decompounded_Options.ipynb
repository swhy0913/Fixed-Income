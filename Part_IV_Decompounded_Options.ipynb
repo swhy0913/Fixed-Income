{
 "cells": [
  {
   "cell_type": "code",
   "execution_count": 1,
   "metadata": {},
   "outputs": [],
   "source": [
    "# Libraries and dependencies\n",
    "import pandas as pd\n",
    "import numpy as np\n",
    "from scipy.stats import norm\n",
    "from scipy.integrate import quad"
   ]
  },
  {
   "cell_type": "code",
   "execution_count": 2,
   "metadata": {},
   "outputs": [],
   "source": [
    "# OIS\n",
    "ois = pd.read_pickle('Odisc')\n",
    "# FSR\n",
    "fsr = pd.read_pickle('FSR')\n",
    "# SABR\n",
    "SABRdf = pd.read_pickle('SABRdf')"
   ]
  },
  {
   "cell_type": "code",
   "execution_count": 3,
   "metadata": {},
   "outputs": [],
   "source": [
    "# Black76 model\n",
    "def Black76(F, K, vol, T, disc, Type = 'Payer'):\n",
    "    c1 = (np.log(F/K) + (vol**2)/2*T) / (vol*np.sqrt(T))\n",
    "    c2 = c1 - vol*np.sqrt(T)\n",
    "    if Type == 'Payer':\n",
    "        return disc*(F*norm.cdf(c1) - K*norm.cdf(c2))\n",
    "    elif Type == 'Receiver':\n",
    "        return disc*(K*norm.cdf(-c2) - F*norm.cdf(-c1))\n",
    "\n",
    "# SABR model\n",
    "def SABR(F, K, T, alpha, beta, rho, nu):\n",
    "    X = K\n",
    "    # if K is at-the-money-forward\n",
    "    if abs(F - K) < 1e-12:\n",
    "        numer1 = (((1 - beta)**2)/24)*alpha*alpha/(F**(2 - 2*beta))\n",
    "        numer2 = 0.25*rho*beta*nu*alpha/(F**(1 - beta))\n",
    "        numer3 = ((2 - 3*rho*rho)/24)*nu*nu\n",
    "        VolAtm = alpha*(1 + (numer1 + numer2 + numer3)*T)/(F**(1-beta))\n",
    "        sabrsigma = VolAtm\n",
    "    else:\n",
    "        z = (nu/alpha)*((F*X)**(0.5*(1-beta)))*np.log(F/X)\n",
    "        zhi = np.log((((1 - 2*rho*z + z*z)**0.5) + z - rho)/(1 - rho))\n",
    "        numer1 = (((1 - beta)**2)/24)*((alpha*alpha)/((F*X)**(1 - beta)))\n",
    "        numer2 = 0.25*rho*beta*nu*alpha/((F*X)**((1 - beta)/2))\n",
    "        numer3 = ((2 - 3*rho*rho)/24)*nu*nu\n",
    "        numer = alpha*(1 + (numer1 + numer2 + numer3)*T)*z\n",
    "        denom1 = ((1 - beta)**2/24)*(np.log(F/X))**2\n",
    "        denom2 = (((1 - beta)**4)/1920)*((np.log(F/X))**4)\n",
    "        denom = ((F*X)**((1 - beta)/2))*(1 + denom1 + denom2)*zhi\n",
    "        sabrsigma = numer/denom\n",
    "\n",
    "    return sabrsigma"
   ]
  },
  {
   "cell_type": "markdown",
   "metadata": {},
   "source": [
    "### Question 1\n",
    "Given a decompounded option pays the following at time $T = 5y$:\n",
    "\n",
    "$$\n",
    "\\begin{align*}\n",
    "\\text{CMS}\\ 10y^{\\frac{1}{4}} - 0.04^{\\frac{1}{2}}\n",
    "\\end{align*}\n",
    "$$\n",
    "\n",
    "For static replication of any constant maturity swap (CMS) payoff $g(F)$, where $F$ is the swap rate, we use the following formula:\n",
    "\n",
    "  \\begin{equation*}\n",
    "    \\begin{split}\n",
    "      V_0 &= D(0,T) g(F) + h'(F)[V^{pay}(F)-V^{rec}(F)] \\\\\n",
    "      &\\;\\;\\;\\;\\;\\;\\;\\;\\;\\;+ \\int_0^F h''(K) V^{rec}(K) dK +\n",
    "      \\int_F^\\infty h''(K) V^{pay}(K) dK\n",
    "    \\end{split}\n",
    "  \\end{equation*}\n",
    "\n",
    "Let $F = \\text{CMS}\\ 10y$ and $g(K)$ be the payoff function. Differentiating, we get:\n",
    "\n",
    "$$\n",
    "\\begin{align*}\n",
    "g(K) &= F^{\\frac{1}{4}} - 0.2 \\\\\n",
    "g'(K) &= \\frac{1}{4} F^{-\\frac{3}{4}} \\\\\n",
    "g''(K) &= -\\frac{3}{16} F^{-\\frac{7}{4}}\n",
    "\\end{align*}\n",
    "$$"
   ]
  },
  {
   "cell_type": "code",
   "execution_count": 4,
   "metadata": {},
   "outputs": [],
   "source": [
    "def g_0(K):\n",
    "    return K**(1/4)-0.2\n",
    "\n",
    "def g_1(K):\n",
    "    return 1/4*K**(-(3/4))\n",
    "\n",
    "def g_2(K):\n",
    "    return -(3/16)*K**(-(7/4))"
   ]
  },
  {
   "cell_type": "markdown",
   "metadata": {},
   "source": [
    "Let $\\text{IRR}(K)$ be the IRR annuity. Differentiating, we get:\n",
    "\n",
    "\\begin{equation*}\n",
    "\\begin{split}\n",
    "\\mbox{IRR}(K)&=\\sum_{i=1}^{N\\times m}\\frac{1}{(1+\\frac{K}{m})^i}=\\frac{1}{K}\\left[1-\\frac{1}{\\left(1+\\frac{K}{m}\\right)^{N\\times m}}\\right]\\\\\n",
    "\\mbox{IRR}'(K)&=-\\frac{1}{K}\\mbox{IRR}(K)\n",
    "+\\frac{1}{m\\times K}\\frac{N\\times m}{\\left(1+\\frac{K}{m}\\right)^{N\\times m+1}} \\\\\n",
    "\\mbox{IRR}''(K)&=-\\frac{2}{K}\\mbox{IRR}'(K)\n",
    "-\\frac{1}{m^2\\times K}\\frac{N\\times m\\cdot (N\\times m+1)}{\\left(1+\\frac{K}{m}\\right)^{N\\times m+2}} \\\\\n",
    "\\end{split}\n",
    "\\end{equation*}"
   ]
  },
  {
   "cell_type": "code",
   "execution_count": 5,
   "metadata": {},
   "outputs": [],
   "source": [
    "def IRR_0(K, m, N):\n",
    "    # implementation of IRR(K) function\n",
    "    value = 1/K * ( 1.0 - 1/(1 + K/m)**(N*m) )\n",
    "    return value\n",
    "\n",
    "def IRR_1(K, m, N):\n",
    "    # implementation of IRR'(K) function (1st derivative)\n",
    "    firstDerivative = -1/K*IRR_0(K, m, N) + 1/(K*m)*N*m/(1+K/m)**(N*m+1)\n",
    "    return firstDerivative\n",
    "\n",
    "def IRR_2(K, m, N):\n",
    "    # implementation of IRR''(K) function (2nd derivative)\n",
    "    secondDerivative = -2/K*IRR_1(K, m, N) - 1/(K*m*m)*(N*m)*(N*m+1)/(1+K/m)**(N*m+2)\n",
    "    return secondDerivative"
   ]
  },
  {
   "cell_type": "markdown",
   "metadata": {},
   "source": [
    "We now want to value a CMS contract with payoff $g(K)$ at time T. Let $h(K) = \\frac{g(K)}{\\text{IRR}(K)}$. Differentiating, we get:\n",
    "\n",
    "\\begin{equation*}\n",
    "  \\begin{split}\n",
    "    h(K) &= \\frac{g(K)}{\\mbox{IRR}(K)} \\\\\n",
    "    h'(K) &= \\frac{\\mbox{IRR}(K)g'(K) - g(K)\\mbox{IRR}'(K)}{\\mbox{IRR}(K)^2} \\\\\n",
    "    h''(K) &= \\frac{\\mbox{IRR}(K)g''(K)-\\mbox{IRR}''(K)g(K) -2\\cdot\\mbox{IRR}'(K)g'(K)}{\\mbox{IRR}(K)^2} \\\\\n",
    "    &\\;\\;\\;\\;\\;\\;\\;\\;\\;\\;+\n",
    "    \\frac{2\\cdot\\mbox{IRR}'(K)^2g(K)}{\\mbox{IRR}(K)^3}.\n",
    "  \\end{split}\n",
    "\\end{equation*}"
   ]
  },
  {
   "cell_type": "code",
   "execution_count": 6,
   "metadata": {},
   "outputs": [],
   "source": [
    "def h_0(K, m, N):\n",
    "    # implementation of h(K)\n",
    "    value = g_0(K) / IRR_0(K, m, N)\n",
    "    return value\n",
    "\n",
    "def h_1(K, m, N):\n",
    "    # implementation of h'(K) (1st derivative)\n",
    "    firstDerivative = (IRR_0(K, m, N)*g_1(K) - g_0(K)*IRR_1(K, m, N)) / IRR_0(K, m, N)**2\n",
    "    return firstDerivative\n",
    "\n",
    "def h_2(K, m, N):\n",
    "    # implementation of h''(K) (2nd derivative)\n",
    "    secondDerivative = ((IRR_0(K, m, N)*g_2(K) - IRR_2(K, m, N)*g_0(K) - 2.0*IRR_1(K, m, N)*g_1(K))/IRR_0(K, m, N)**2\n",
    "                        + 2.0*IRR_1(K, m, N)**2*g_0(K)/IRR_0(K, m, N)**3)\n",
    "    return secondDerivative"
   ]
  },
  {
   "cell_type": "markdown",
   "metadata": {},
   "source": [
    "For CMS rate payoff, the payoff function is $g(F)$, and the static replication formula is:\n",
    "\n",
    "  \\begin{equation*}\n",
    "    \\begin{split}\n",
    "      D(0,T) g(F) + \\underbrace{\\int_0^F h''(K) V^{rec}(K) dK}_\\text{Put Integral} + \\underbrace{\\int_F^\\infty h''(K) V^{pay}(K) dK}_\\text{Call Integral}\n",
    "    \\end{split}\n",
    "  \\end{equation*}"
   ]
  },
  {
   "cell_type": "code",
   "execution_count": 7,
   "metadata": {},
   "outputs": [
    {
     "name": "stdout",
     "output_type": "stream",
     "text": [
      "0.2500422267269235\n"
     ]
    }
   ],
   "source": [
    "# Define parameters\n",
    "F, D_0T = fsr.loc[9, \"FSR\"], ois.loc[5, \"Discount\"]\n",
    "alpha, beta, rho, nu = SABRdf.loc[9, 'Alpha'], 0.9, SABRdf.loc[9, 'Rho'], SABRdf.loc[9, 'Nu']\n",
    "m, N, T, disc = 2, 10, 5, D_0T\n",
    "\n",
    "# Terms\n",
    "put_integral = quad(lambda x: h_2(x, m, N)*Black76(F, x, SABR(F, x, T, alpha, beta, rho, nu), T, D_0T, Type = 'Receiver'), 1e-6, F)\n",
    "call_integral = quad(lambda x: h_2(x, m, N)*Black76(F, x, SABR(F, x, T, alpha, beta, rho, nu), T, D_0T, Type = 'Payer'), F, F*25)\n",
    "\n",
    "# CMS valuation\n",
    "cms_price_1 = D_0T * g_0(F) + put_integral[0] + call_integral[0]\n",
    "print(cms_price_1)"
   ]
  },
  {
   "cell_type": "markdown",
   "metadata": {},
   "source": [
    "### Question 2\n",
    "\n",
    "Suppose the payoff is now\n",
    "\n",
    "$$\n",
    "(CMS\\ 10y^{\\frac{1}{4}} - 0.04^{\\frac{1}{2}})^+\n",
    "$$\n",
    "\n",
    "Let $F = \\text{CMS}\\ 10y$ and $g(K)$ be the payoff function. Differentiating, we get:\n",
    "\n",
    "$$\n",
    "\\begin{align*}\n",
    "g(K) \\Rightarrow F^{\\frac{1}{4}} - 0.2 &> 0 \\\\\n",
    "F &> 0.2^{4} \\\\\n",
    "F &> 0.0016 \\\\\n",
    "\\end{align*}\n",
    "$$\n",
    "\n",
    "Let L = 0.0016, which is the CMS caplet strike.\n",
    "\n",
    "$$\n",
    "\\begin{align*}\n",
    "\\text{CMS Caplet} = V^{pay}(L)h'(L) + \\int_L^{\\infty} h''(K)V^{pay}(K)dK\n",
    "\\end{align*}\n",
    "$$"
   ]
  },
  {
   "cell_type": "code",
   "execution_count": 8,
   "metadata": {},
   "outputs": [
    {
     "name": "stdout",
     "output_type": "stream",
     "text": [
      "0.030343493389867346\n"
     ]
    }
   ],
   "source": [
    "# Define parameters\n",
    "L = 0.2**4\n",
    "\n",
    "# Terms\n",
    "caplet = Black76(F, L, SABR(F, L, T, alpha, beta, rho, nu), T, D_0T, Type = 'Payer')*h_1(L, m, N)\n",
    "call_integral_caplet = quad(lambda x: h_2(x, m, N)*Black76(F, x, SABR(F, x, T, alpha, beta, rho, nu), T, D_0T, Type = 'Payer'), L, L*25)\n",
    "\n",
    "# CMS valuation\n",
    "cms_price_2 = caplet + call_integral_caplet[0]\n",
    "print(cms_price_2)"
   ]
  }
 ],
 "metadata": {
  "kernelspec": {
   "display_name": "Python 3 (ipykernel)",
   "language": "python",
   "name": "python3"
  },
  "language_info": {
   "codemirror_mode": {
    "name": "ipython",
    "version": 3
   },
   "file_extension": ".py",
   "mimetype": "text/x-python",
   "name": "python",
   "nbconvert_exporter": "python",
   "pygments_lexer": "ipython3",
   "version": "3.9.13"
  }
 },
 "nbformat": 4,
 "nbformat_minor": 1
}
